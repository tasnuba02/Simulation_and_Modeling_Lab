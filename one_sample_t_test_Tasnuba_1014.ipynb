{
  "cells": [
    {
      "cell_type": "markdown",
      "id": "e321837c",
      "metadata": {
        "id": "e321837c"
      },
      "source": [
        "# 📑 Report – One-Sample t-Test\n",
        "\n",
        "### 1. Dataset Generation\n",
        "I generated a dataset of 12 exam scores based on the formula:\n",
        "\n",
        "```\n",
        "exam_scores = 60 + randint(0, 15, size=12) + (12 % 5)\n",
        "```\n",
        "\n",
        "Generated Exam Scores:  \n",
        "- [68, 65, 74, 76, 72, 69, 74, 66, 68, 71, 64, 68]\n"
      ]
    },
    {
      "cell_type": "markdown",
      "id": "3a41c660",
      "metadata": {
        "id": "3a41c660"
      },
      "source": [
        "### 2. Hypotheses\n",
        "- Null Hypothesis (H₀): Population mean = 65  \n",
        "- Alternative Hypothesis (H₁): Population mean ≠ 65  \n"
      ]
    },
    {
      "cell_type": "markdown",
      "id": "cd14fb15",
      "metadata": {
        "id": "cd14fb15"
      },
      "source": [
        "### 3. One-Sample t-Test Results\n",
        "- Sample Mean = 69.58333333333333  \n",
        "- Hypothesized Mean = 65  \n",
        "- t-statistic = 4.15114491952896  \n",
        "- Degrees of Freedom = 11  \n",
        "- p-value = 0.001613325735010127  \n"
      ]
    },
    {
      "cell_type": "markdown",
      "id": "dbb9c1b1",
      "metadata": {
        "id": "dbb9c1b1"
      },
      "source": [
        "### 4. 95% Confidence Interval\n",
        "CI = ( 67.1531968659404, 72.01346980072626 )\n"
      ]
    },
    {
      "cell_type": "markdown",
      "id": "07bc355f",
      "metadata": {
        "id": "07bc355f"
      },
      "source": [
        "### 5. Decision & Interpretation\n",
        "- If p-value < 0.05 → Reject H₀.  \n",
        "- If p-value ≥ 0.05 → Fail to reject H₀.  \n",
        "\n",
        "Decision: Reject H0 (because p-value < 0.05)  \n",
        "\n",
        "Interpretation:  \n",
        "The sample mean of my dataset was 69.58333333333333 . With a p-value of 0.001613325735010127, I (reject / fail to reject) the null hypothesis. This means the exam scores are (significantly different / not significantly different) from the hypothesized mean of 65.\n"
      ]
    },
    {
      "cell_type": "markdown",
      "id": "10099ee9",
      "metadata": {
        "id": "10099ee9"
      },
      "source": [
        "### 6. Visualization\n"
      ]
    },
    {
      "cell_type": "code",
      "execution_count": null,
      "id": "3ff580ac",
      "metadata": {
        "colab": {
          "base_uri": "https://localhost:8080/",
          "height": 635
        },
        "id": "3ff580ac",
        "outputId": "77c8c170-f664-4698-f3bc-ddf1ff105f9b"
      },
      "outputs": [
        {
          "name": "stdout",
          "output_type": "stream",
          "text": [
            "Exam Scores: [68 65 74 76 72 69 74 66 68 71 64 68]\n",
            "\n",
            "Sample Mean: 69.58333333333333\n",
            "Hypothesized Mean: 65\n",
            "t-statistic: 4.15114491952896\n",
            "Degrees of Freedom: 11\n",
            "p-value: 0.001613325735010127\n",
            "\n",
            "95% Confidence Interval for the mean: (np.float64(67.1531968659404), np.float64(72.01346980072626))\n",
            "\n",
            "Decision: Reject H0: The population mean is significantly different from 65.\n"
          ]
        },
        {
          "data": {
            "image/png": "[encoded data removed]",
            "text/plain": [
              "<Figure size 700x500 with 1 Axes>"
            ]
          },
          "metadata": {},
          "output_type": "display_data"
        }
      ],
      "source": [
        "# Import libraries\n",
        "import numpy as np\n",
        "import scipy.stats as stats\n",
        "import matplotlib.pyplot as plt\n",
        "\n",
        "# 1. Generate Dataset\n",
        "# Last two digits of phone = 12 => k = 12\n",
        "# Dataset rule: exam_scores = 60 + randint(0, 15, size=12) + (k % 5)\n",
        "np.random.seed(42)  # for reproducibility\n",
        "exam_scores = 60 + np.random.randint(0, 15, size=12) + (12 % 5)\n",
        "\n",
        "print(\"Exam Scores:\", exam_scores)\n",
        "\n",
        "# 2. Hypothesis\n",
        "hypothesized_mean = 65\n",
        "\n",
        "# 3. Perform one-sample t-test\n",
        "t_stat, p_value = stats.ttest_1samp(exam_scores, hypothesized_mean)\n",
        "sample_mean = np.mean(exam_scores)\n",
        "df = len(exam_scores) - 1\n",
        "\n",
        "print(\"\\nSample Mean:\", sample_mean)\n",
        "print(\"Hypothesized Mean:\", hypothesized_mean)\n",
        "print(\"t-statistic:\", t_stat)\n",
        "print(\"Degrees of Freedom:\", df)\n",
        "print(\"p-value:\", p_value)\n",
        "\n",
        "# 4. 95% Confidence Interval\n",
        "confidence_level = 0.95\n",
        "ci = stats.t.interval(confidence_level, df, loc=sample_mean, scale=stats.sem(exam_scores))\n",
        "\n",
        "print(\"\\n95% Confidence Interval for the mean:\", ci)\n",
        "\n",
        "# 5. Decision\n",
        "alpha = 0.05\n",
        "if p_value < alpha:\n",
        "    decision = \"Reject H0: The population mean is significantly different from 65.\"\n",
        "else:\n",
        "    decision = \"Fail to reject H0: No significant evidence that the population mean differs from 65.\"\n",
        "\n",
        "print(\"\\nDecision:\", decision)\n",
        "\n",
        "# 6. Visualization\n",
        "plt.figure(figsize=(7,5))\n",
        "plt.errorbar(1, sample_mean, yerr=stats.sem(exam_scores), fmt='o', capsize=5, label=\"Sample Mean ± SE\")\n",
        "plt.axhline(y=hypothesized_mean, color='r', linestyle='--', label=\"Hypothesized Mean (65)\")\n",
        "plt.xlim(0, 2)\n",
        "plt.xticks([])\n",
        "plt.ylabel(\"Exam Scores\")\n",
        "plt.title(\"One-Sample t-Test Visualization\")\n",
        "plt.legend()\n",
        "plt.show()\n"
      ]
    }
  ],
  "metadata": {
    "colab": {
      "provenance": []
    },
    "kernelspec": {
      "display_name": "Python 3",
      "name": "python3"
    },
    "language_info": {
      "name": "python"
    }
  },
  "nbformat": 4,
  "nbformat_minor": 5
}
