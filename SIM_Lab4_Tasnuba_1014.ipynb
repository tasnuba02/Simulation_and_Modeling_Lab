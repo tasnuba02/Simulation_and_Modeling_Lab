{
  "nbformat": 4,
  "nbformat_minor": 0,
  "metadata": {
    "colab": {
      "provenance": []
    },
    "kernelspec": {
      "name": "python3",
      "display_name": "Python 3"
    },
    "language_info": {
      "name": "python"
    }
  },
  "cells": [
    {
      "cell_type": "code",
      "execution_count": null,
      "metadata": {
        "colab": {
          "base_uri": "https://localhost:8080/"
        },
        "id": "muxUYzFWpDnw",
        "outputId": "787aed93-be6b-4e4e-9532-5ab2b7578951"
      },
      "outputs": [
        {
          "output_type": "stream",
          "name": "stdout",
          "text": [
            "Range Used | Total Points | Points Inside | Estimated π | Error from π\n",
            "[0, 4.1]   | 23400        | 18320         | 3.131624    | 0.009969\n",
            "[0, 4.1]   | 23400        | 18407         | 3.146496    | 0.004903\n",
            "[0, 4.1]   | 23400        | 18402         | 3.145641    | 0.004048\n",
            "[0, 4.1]   | 23400        | 18361         | 3.138632    | 0.002960\n",
            "[0, 4.1]   | 23400        | 18375         | 3.141026    | 0.000567\n"
          ]
        }
      ],
      "source": [
        "import random\n",
        "import numpy as np\n",
        "import math\n",
        "\n",
        "def estimate_pi(num_points):\n",
        "    inside = 0  # Count points inside the circle\n",
        "\n",
        "    for i in range(num_points):\n",
        "        if i < num_points // 2:\n",
        "            x = random.uniform(0, 4.1)\n",
        "            y = random.uniform(0, 4.1)\n",
        "        else:\n",
        "            x = np.random.rand() * 4.1\n",
        "            y = np.random.rand() * 4.1\n",
        "\n",
        "        if x*x + y*y <= 4.1**2:\n",
        "            inside += 1  # Point is inside the circle\n",
        "\n",
        "    pi_estimate = 4 * inside / num_points\n",
        "    error = abs(math.pi - pi_estimate)\n",
        "\n",
        "    return num_points, inside, pi_estimate, error  # Return all needed values\n",
        "\n",
        "\n",
        "print(\"Range Used | Total Points | Points Inside | Estimated π | Error from π\")\n",
        "for run in range(1, 6):\n",
        "    num_points = 23400\n",
        "    total, inside, pi_estimate, error = estimate_pi(num_points)\n",
        "    print(f\"[0, 4.1]   | {total:<12} | {inside:<13} | {pi_estimate:<11.6f} | {error:.6f}\")\n"
      ]
    }
  ]
}